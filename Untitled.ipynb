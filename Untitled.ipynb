{
 "cells": [
  {
   "cell_type": "code",
   "execution_count": 2,
   "id": "4b4ffc27",
   "metadata": {},
   "outputs": [
    {
     "name": "stdout",
     "output_type": "stream",
     "text": [
      "...but on pretzel day, well I like pretzel day.\n",
      "Oh man, it's called Bretzel.\n",
      "Could also change it to\n",
      "Top picture:boy losing his mind.\n",
      "Flex tape but it's Stanley: helping him find it\n",
      "Top picture: Having to do a sales pitch to Stanley’s old friends.\n",
      "Bottom picture (Ryan with flex tape): Hi. Hi. Hi. Hi.\n",
      "Lmao I like this idea\n",
      "I wonder what kinda of pretzel Stanley ordered. Sweet or savory?\n",
      "Is there any way they could do all of them?\n",
      "He ordered a salty pretzel with mustard!\n",
      "The Works, obviously\n",
      "364 days until the next pretzel day.\n",
      "I feel like that's when the next part of the post will hit\n",
      "Should add that his heart sucks\n",
      "Boom. Roasted.\n",
      "Crushes wife during sex\n",
      "Come on, it pretzel day man.\n",
      "Who invented cupcakes,right?\n",
      "what about mini cupcakes?\n"
     ]
    }
   ],
   "source": [
    "from bs4 import BeautifulSoup\n",
    "from selenium import webdriver\n",
    "import pandas\n",
    "driver = webdriver.Chrome()\n",
    "url = 'https://www.reddit.com/r/DunderMifflin/comments/mf1y4j/makes_it_all_worth_it/'\n",
    "driver.get(url)\n",
    "html =  BeautifulSoup(driver.page_source, \"html.parser\")\n",
    "result = html.find_all(\"p\",{\"class\":\"_1qeIAgB0cPwnLhDF9XSiJM\"})\n",
    "for item in result:\n",
    "    print(item.text)\n",
    "    with open(\"data.csv\",\"a\", encoding=\"utf-8\") as file:\n",
    "        file.write(item.text + \"\\n\")"
   ]
  },
  {
   "cell_type": "code",
   "execution_count": null,
   "id": "e594d6f6",
   "metadata": {},
   "outputs": [],
   "source": []
  }
 ],
 "metadata": {
  "kernelspec": {
   "display_name": "Python 3 (ipykernel)",
   "language": "python",
   "name": "python3"
  },
  "language_info": {
   "codemirror_mode": {
    "name": "ipython",
    "version": 3
   },
   "file_extension": ".py",
   "mimetype": "text/x-python",
   "name": "python",
   "nbconvert_exporter": "python",
   "pygments_lexer": "ipython3",
   "version": "3.11.2"
  }
 },
 "nbformat": 4,
 "nbformat_minor": 5
}
